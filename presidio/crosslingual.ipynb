{
 "cells": [
  {
   "cell_type": "markdown",
   "id": "74c0f0ff-630f-4952-be7b-0734aec6b4b2",
   "metadata": {},
   "source": [
    "# Crosslingual test\n",
    "\n",
    "Checking if spaCy model for Finnish works for Estonian and if Norwegian for Icelandic. Test data generated and translated by ChatGPT (and manually changed names and locations to match the language).\n"
   ]
  },
  {
   "cell_type": "code",
   "execution_count": 1,
   "id": "e7d517b2-d8d5-4414-a3bc-b7b9cc7a5169",
   "metadata": {},
   "outputs": [],
   "source": [
    "conf_file = \"./nb-spacy-config.yml\"\n",
    "lang1 = \"nb\"\n",
    "lang2 = \"is\""
   ]
  },
  {
   "cell_type": "code",
   "execution_count": 2,
   "id": "56701a27-57e0-4cb1-8512-a25f4f1ac4cd",
   "metadata": {},
   "outputs": [
    {
     "name": "stdout",
     "output_type": "stream",
     "text": [
      "Defaulting to user installation because normal site-packages is not writeable\n",
      "Collecting nb-core-news-md==3.7.0\n",
      "  Downloading https://github.com/explosion/spacy-models/releases/download/nb_core_news_md-3.7.0/nb_core_news_md-3.7.0-py3-none-any.whl (42.3 MB)\n",
      "     ━━━━━━━━━━━━━━━━━━━━━━━━━━━━━━━━━━━━━━━━ 42.3/42.3 MB 19.7 MB/s eta 0:00:00\n",
      "Requirement already satisfied: spacy<3.8.0,>=3.7.0 in /pfs/lustrep4/users/mynttiam/.local/lib/python3.10/site-packages (from nb-core-news-md==3.7.0) (3.7.2)\n",
      "Requirement already satisfied: preshed<3.1.0,>=3.0.2 in /pfs/lustrep4/users/mynttiam/.local/lib/python3.10/site-packages (from spacy<3.8.0,>=3.7.0->nb-core-news-md==3.7.0) (3.0.9)\n",
      "Requirement already satisfied: smart-open<7.0.0,>=5.2.1 in /usr/local/lib/python3.10/dist-packages (from spacy<3.8.0,>=3.7.0->nb-core-news-md==3.7.0) (6.3.0)\n",
      "Requirement already satisfied: setuptools in /usr/lib/python3/dist-packages (from spacy<3.8.0,>=3.7.0->nb-core-news-md==3.7.0) (59.6.0)\n",
      "Requirement already satisfied: weasel<0.4.0,>=0.1.0 in /pfs/lustrep4/users/mynttiam/.local/lib/python3.10/site-packages (from spacy<3.8.0,>=3.7.0->nb-core-news-md==3.7.0) (0.3.4)\n",
      "Requirement already satisfied: requests<3.0.0,>=2.13.0 in /usr/local/lib/python3.10/dist-packages (from spacy<3.8.0,>=3.7.0->nb-core-news-md==3.7.0) (2.28.2)\n",
      "Requirement already satisfied: tqdm<5.0.0,>=4.38.0 in /usr/local/lib/python3.10/dist-packages (from spacy<3.8.0,>=3.7.0->nb-core-news-md==3.7.0) (4.65.0)\n",
      "Requirement already satisfied: numpy>=1.19.0 in /usr/local/lib/python3.10/dist-packages (from spacy<3.8.0,>=3.7.0->nb-core-news-md==3.7.0) (1.23.5)\n",
      "Requirement already satisfied: wasabi<1.2.0,>=0.9.1 in /pfs/lustrep4/users/mynttiam/.local/lib/python3.10/site-packages (from spacy<3.8.0,>=3.7.0->nb-core-news-md==3.7.0) (1.1.2)\n",
      "Requirement already satisfied: packaging>=20.0 in /usr/local/lib/python3.10/dist-packages (from spacy<3.8.0,>=3.7.0->nb-core-news-md==3.7.0) (23.0)\n",
      "Requirement already satisfied: langcodes<4.0.0,>=3.2.0 in /pfs/lustrep4/users/mynttiam/.local/lib/python3.10/site-packages (from spacy<3.8.0,>=3.7.0->nb-core-news-md==3.7.0) (3.3.0)\n",
      "Requirement already satisfied: spacy-loggers<2.0.0,>=1.0.0 in /pfs/lustrep4/users/mynttiam/.local/lib/python3.10/site-packages (from spacy<3.8.0,>=3.7.0->nb-core-news-md==3.7.0) (1.0.5)\n",
      "Requirement already satisfied: typer<0.10.0,>=0.3.0 in /pfs/lustrep4/users/mynttiam/.local/lib/python3.10/site-packages (from spacy<3.8.0,>=3.7.0->nb-core-news-md==3.7.0) (0.9.0)\n",
      "Requirement already satisfied: catalogue<2.1.0,>=2.0.6 in /pfs/lustrep4/users/mynttiam/.local/lib/python3.10/site-packages (from spacy<3.8.0,>=3.7.0->nb-core-news-md==3.7.0) (2.0.10)\n",
      "Requirement already satisfied: cymem<2.1.0,>=2.0.2 in /pfs/lustrep4/users/mynttiam/.local/lib/python3.10/site-packages (from spacy<3.8.0,>=3.7.0->nb-core-news-md==3.7.0) (2.0.8)\n",
      "Requirement already satisfied: srsly<3.0.0,>=2.4.3 in /pfs/lustrep4/users/mynttiam/.local/lib/python3.10/site-packages (from spacy<3.8.0,>=3.7.0->nb-core-news-md==3.7.0) (2.4.8)\n",
      "Requirement already satisfied: pydantic!=1.8,!=1.8.1,<3.0.0,>=1.7.4 in /usr/local/lib/python3.10/dist-packages (from spacy<3.8.0,>=3.7.0->nb-core-news-md==3.7.0) (1.10.6)\n",
      "Requirement already satisfied: murmurhash<1.1.0,>=0.28.0 in /pfs/lustrep4/users/mynttiam/.local/lib/python3.10/site-packages (from spacy<3.8.0,>=3.7.0->nb-core-news-md==3.7.0) (1.0.10)\n",
      "Requirement already satisfied: jinja2 in /usr/local/lib/python3.10/dist-packages (from spacy<3.8.0,>=3.7.0->nb-core-news-md==3.7.0) (3.1.2)\n",
      "Requirement already satisfied: spacy-legacy<3.1.0,>=3.0.11 in /pfs/lustrep4/users/mynttiam/.local/lib/python3.10/site-packages (from spacy<3.8.0,>=3.7.0->nb-core-news-md==3.7.0) (3.0.12)\n",
      "Requirement already satisfied: thinc<8.3.0,>=8.1.8 in /pfs/lustrep4/users/mynttiam/.local/lib/python3.10/site-packages (from spacy<3.8.0,>=3.7.0->nb-core-news-md==3.7.0) (8.2.2)\n",
      "Requirement already satisfied: typing-extensions>=4.2.0 in /usr/local/lib/python3.10/dist-packages (from pydantic!=1.8,!=1.8.1,<3.0.0,>=1.7.4->spacy<3.8.0,>=3.7.0->nb-core-news-md==3.7.0) (4.5.0)\n",
      "Requirement already satisfied: urllib3<1.27,>=1.21.1 in /usr/local/lib/python3.10/dist-packages (from requests<3.0.0,>=2.13.0->spacy<3.8.0,>=3.7.0->nb-core-news-md==3.7.0) (1.26.15)\n",
      "Requirement already satisfied: charset-normalizer<4,>=2 in /usr/local/lib/python3.10/dist-packages (from requests<3.0.0,>=2.13.0->spacy<3.8.0,>=3.7.0->nb-core-news-md==3.7.0) (3.1.0)\n",
      "Requirement already satisfied: idna<4,>=2.5 in /usr/local/lib/python3.10/dist-packages (from requests<3.0.0,>=2.13.0->spacy<3.8.0,>=3.7.0->nb-core-news-md==3.7.0) (3.4)\n",
      "Requirement already satisfied: certifi>=2017.4.17 in /usr/local/lib/python3.10/dist-packages (from requests<3.0.0,>=2.13.0->spacy<3.8.0,>=3.7.0->nb-core-news-md==3.7.0) (2022.12.7)\n",
      "Requirement already satisfied: blis<0.8.0,>=0.7.8 in /pfs/lustrep4/users/mynttiam/.local/lib/python3.10/site-packages (from thinc<8.3.0,>=8.1.8->spacy<3.8.0,>=3.7.0->nb-core-news-md==3.7.0) (0.7.11)\n",
      "Requirement already satisfied: confection<1.0.0,>=0.0.1 in /pfs/lustrep4/users/mynttiam/.local/lib/python3.10/site-packages (from thinc<8.3.0,>=8.1.8->spacy<3.8.0,>=3.7.0->nb-core-news-md==3.7.0) (0.1.4)\n",
      "Requirement already satisfied: click<9.0.0,>=7.1.1 in /usr/local/lib/python3.10/dist-packages (from typer<0.10.0,>=0.3.0->spacy<3.8.0,>=3.7.0->nb-core-news-md==3.7.0) (8.1.3)\n",
      "Requirement already satisfied: cloudpathlib<0.17.0,>=0.7.0 in /pfs/lustrep4/users/mynttiam/.local/lib/python3.10/site-packages (from weasel<0.4.0,>=0.1.0->spacy<3.8.0,>=3.7.0->nb-core-news-md==3.7.0) (0.16.0)\n",
      "Requirement already satisfied: MarkupSafe>=2.0 in /usr/local/lib/python3.10/dist-packages (from jinja2->spacy<3.8.0,>=3.7.0->nb-core-news-md==3.7.0) (2.1.2)\n",
      "Installing collected packages: nb-core-news-md\n",
      "Successfully installed nb-core-news-md-3.7.0\n",
      "\u001b[38;5;2m✔ Download and installation successful\u001b[0m\n",
      "You can now load the package via spacy.load('nb_core_news_md')\n"
     ]
    }
   ],
   "source": [
    "from presidio_analyzer import AnalyzerEngine, RecognizerRegistry\n",
    "from presidio_analyzer.nlp_engine import NlpEngineProvider\n",
    "from presidio_anonymizer import AnonymizerEngine\n",
    "\n",
    "# Create NLP engine based on configuration\n",
    "provider = NlpEngineProvider(conf_file=conf_file)\n",
    "nlp_engine = provider.create_engine()\n",
    "\n",
    "# Pass the created NLP engine and supported_languages to the AnalyzerEngine\n",
    "analyzer = AnalyzerEngine(\n",
    "    nlp_engine=nlp_engine, \n",
    "    supported_languages=[lang1]\n",
    ")\n",
    "\n"
   ]
  },
  {
   "cell_type": "code",
   "execution_count": 3,
   "id": "9722a69f-c5b4-46f4-9abb-0986551f8984",
   "metadata": {},
   "outputs": [],
   "source": [
    "anonymizer = AnonymizerEngine()"
   ]
  },
  {
   "cell_type": "code",
   "execution_count": 4,
   "id": "791d63f8-ec54-4411-ac3a-36792f4b21bf",
   "metadata": {},
   "outputs": [],
   "source": [
    "# test set?\n",
    "import json\n",
    "\n",
    "file_path = 'testset.jsonl'\n",
    "\n",
    "data = []\n",
    "with open(file_path, 'r') as file:\n",
    "    for line in file:\n",
    "        #print(line)\n",
    "        data.append(json.loads(line))"
   ]
  },
  {
   "cell_type": "code",
   "execution_count": 5,
   "id": "1b8ee01f-0d07-49d4-bcca-f9648593bdb9",
   "metadata": {},
   "outputs": [
    {
     "name": "stdout",
     "output_type": "stream",
     "text": [
      "Maria ringte 555-123-4567 fra kontoret sitt i selskapet i Oslo.\n",
      "<PERSON> ringte <PHONE_NUMBER> fra kontoret sitt i selskapet i Oslo.\n",
      "---------\n",
      "Oliver Nilsen foretrekker å bruke Apple i sitt arbeid og kontakter kunder på telefonnummeret sitt 123-456-7890.\n",
      "<PERSON> foretrekker å bruke Apple i sitt arbeid og kontakter kunder på telefonnummeret sitt <PHONE_NUMBER>.\n",
      "---------\n",
      "Emma besøkte Paris og nøt et herlig måltid på Le Jules Verne-restauranten.\n",
      "<PERSON> besøkte Paris og nøt et herlig måltid på <PERSON> Verne-restauranten.\n",
      "---------\n",
      "Under konferansen diskuterte Dr. Patel fremskritt innen medisin ved Mayo Clinic.\n",
      "Under konferansen diskuterte <PERSON> fremskritt innen medisin ved Mayo Clinic.\n",
      "---------\n",
      "Sofie telefonnummer 987-654-3210 sto skrevet på en lapp som lå igjen på Starbucks-kaféen.\n",
      "<PERSON> telefonnummer <PHONE_NUMBER> sto skrevet på en lapp som lå igjen på Starbucks-kaféen.\n",
      "---------\n",
      "Hr. Andersson, administrerende direktør i ABC Corporation, kunngjorde rekordprofitter i deres siste kvartalsrapport.\n",
      "Hr. <PERSON>, administrerende direktør i ABC Corporation, kunngjorde rekordprofitter i deres siste kvartalsrapport.\n",
      "---------\n",
      "Ella fikk et anrop på leiligheten sin i Chicago fra vennen sin Jakob.\n",
      "<PERSON> fikk et anrop på leiligheten sin i Chicago fra vennen sin <PERSON>.\n",
      "---------\n",
      "Teamet hos Google tok kontakt for å rekruttere Frida.\n",
      "Teamet hos Google tok kontakt for å rekruttere <PERSON>.\n",
      "---------\n",
      "Emil bestiller alltid sin favorittpizza fra Peppes Pizza\n",
      "<PERSON> bestiller alltid sin favorittpizza fra Peppes Pizza\n",
      "---------\n",
      "En anerkjent arkitekt designet det nye bygget for Microsoft i Bergen.\n",
      "En anerkjent arkitekt designet det nye bygget for Microsoft i Bergen.\n",
      "---------\n",
      "Maria hringdi í 555-123-4567 frá skrifstofunni sinni hjá fyrirtækinu í Reykjavík.\n",
      "<PERSON> í <PHONE_NUMBER> frá skrifstofunni sinni hjá fyrirtækinu í Reykjavík.\n",
      "---------\n",
      "Stefán Gunnarsson hefur kost á að nota Apple fyrir sitt starf, hafa samband við viðskiptavini á símanúmerið sitt 123-456-7890.\n",
      "<PERSON> kost á að nota Apple fyrir sitt starf, hafa samband við viðskiptavini á símanúmerið sitt <PHONE_NUMBER>.\n",
      "---------\n",
      "Emma heimsótti París og naut yndislegs máltíðar á veitingastaðnum Le Jules Verne.\n",
      "<PERSON> París og naut yndislegs máltíðar á veitingastaðnum <PERSON>.\n",
      "---------\n",
      "Á ráðstefnunni ræddi Dr. Patel framför í læknisvísindum á Landspítali.\n",
      "Á ráðstefnunni ræddi <PERSON>.\n",
      "---------\n",
      "Símanúmer Idu 987-654-3210 var skrifað á skilaboð sem lágu eftir á Starbucks-kaffihúsinu.\n",
      "Símanúmer <PERSON> var skrifað á skilaboð sem lágu eftir á Starbucks-kaffihúsinu.\n",
      "---------\n",
      "Hr. Andersson, framkvæmdastjóri ABC Corporation, tilkynnti hagnaðarmetum í sínum síðustu ársfjórðungsreikningi.\n",
      "Hr. <PERSON>, framkvæmdastjóri ABC Corporation, tilkynnti hagnaðarmetum í sínum síðustu ársfjórðungsreikningi.\n",
      "---------\n",
      "Emilía fékk símtal í íbúð sinni í Húsavík frá vini sínum Otto.\n",
      "Emilía <PERSON> í <PERSON> í Húsavík frá vini sínum <PERSON>.\n",
      "---------\n",
      "Liðið hjá Google snerist til að ráða Sara.\n",
      "Liðið hjá Google snerist til að ráða <PERSON>.\n",
      "---------\n",
      "Lukas pantar alltaf uppáhalds pizzuna sína frá pizzeria á staðnum.\n",
      "<PERSON> pantar alltaf uppáhalds pizzuna sína frá pizzeria á staðnum.\n",
      "---------\n",
      "Þekktur arkitekt hannaði nýja byggingu fyrir Microsoft í Reykjavík.\n",
      "Þekktur arkitekt hannaði nýja byggingu fyrir Microsoft í Reykjavík.\n",
      "---------\n"
     ]
    }
   ],
   "source": [
    "for d in data:\n",
    "    if d[\"language\"] == lang1 or d[\"language\"] == lang2:\n",
    "        print(d[\"original\"])\n",
    "        results = analyzer.analyze(text=d[\"original\"], language=lang1)#=d[\"language\"])\n",
    "        anonymized_text = anonymizer.anonymize(text=d[\"original\"], analyzer_results=results)\n",
    "        print(anonymized_text.text)\n",
    "        print(\"---------\")"
   ]
  },
  {
   "cell_type": "code",
   "execution_count": null,
   "id": "6041b6ca-b61d-42b2-988c-042d8cae5186",
   "metadata": {},
   "outputs": [],
   "source": []
  }
 ],
 "metadata": {
  "kernelspec": {
   "display_name": "Python 3 (ipykernel)",
   "language": "python",
   "name": "python3"
  },
  "language_info": {
   "codemirror_mode": {
    "name": "ipython",
    "version": 3
   },
   "file_extension": ".py",
   "mimetype": "text/x-python",
   "name": "python",
   "nbconvert_exporter": "python",
   "pygments_lexer": "ipython3",
   "version": "3.10.6"
  }
 },
 "nbformat": 4,
 "nbformat_minor": 5
}
