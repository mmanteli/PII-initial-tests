{
 "cells": [
  {
   "cell_type": "code",
   "execution_count": 1,
   "id": "d8093ac1-296b-4d9b-b478-41882ee97840",
   "metadata": {},
   "outputs": [],
   "source": [
    "import re"
   ]
  },
  {
   "cell_type": "markdown",
   "id": "98bd6ee4-014f-4253-a435-53117a4357ee",
   "metadata": {},
   "source": [
    "## German:\n",
    "\n",
    "- country code +49\n",
    "- area code 2 to 4 digits, e.g. 30 = Berlin, 4539 = some small place close to city 45\n",
    "- 6-7 numbers after (subscriber number)\n",
    "- space between area code and subs. number\n",
    "- with country code, zero can be either omitted or be present in brackets\n",
    "\n",
    "Possible context words:\n",
    "- Telefon\n",
    "- Telefonnummer\n",
    "- Tel.Nr.\n",
    "- Tel.\n",
    "- Nummer\n",
    "- Rufen"
   ]
  },
  {
   "cell_type": "code",
   "execution_count": 6,
   "id": "c41eefb0-1df0-48de-80ed-a7266ac6fd2f",
   "metadata": {},
   "outputs": [],
   "source": [
    "rule_de = r'((\\+49[ ])|(0049 )|((0[ ]?))|(\\+49 \\(0\\)))(\\d{2,4}[ ])(\\d{6,7})'\n",
    "\n",
    "\n",
    "\n",
    "test_set_de = [\"+49 (0)30 4851923\",\n",
    "            \"+49 30 901820\", \n",
    "            \"0 1522 3433333\",\n",
    "            \"01522 3433333\",\n",
    "            \"+49 (0)30 901820\",\n",
    "            \" tf 030 901820 bitte\",\n",
    "            \"+49 (0)30 901820\",\n",
    "            \"+49 30 901820,\",\n",
    "            \"0049 30 901820\",\n",
    "            \"030 901820\",\n",
    "            \"In German, follow the DIN 5008 format: +49 1522 343333. Each part is separated by a space. Without the area code, it’s 01522 343333.\"\n",
    "           ]\n",
    "\n"
   ]
  },
  {
   "cell_type": "code",
   "execution_count": 7,
   "id": "3fcfcf2a-3332-4d61-8915-fd4251e76acf",
   "metadata": {},
   "outputs": [
    {
     "name": "stdout",
     "output_type": "stream",
     "text": [
      "<PHONE_NUMBER>\n",
      "<PHONE_NUMBER>\n",
      "<PHONE_NUMBER>\n",
      "<PHONE_NUMBER>\n",
      "<PHONE_NUMBER>\n",
      " tf <PHONE_NUMBER> bitte\n",
      "<PHONE_NUMBER>\n",
      "<PHONE_NUMBER>,\n",
      "<PHONE_NUMBER>\n",
      "<PHONE_NUMBER>\n",
      "In German, follow the DIN 5008 format: <PHONE_NUMBER>. Each part is separated by a space. Without the area code, it’s <PHONE_NUMBER>.\n"
     ]
    }
   ],
   "source": [
    "def replace_number(line, rule=rule_de):\n",
    "    # This is for us? But does not even recognize them? cONFUSION\n",
    "    return re.sub(rule, \"<PHONE_NUMBER>\", line)\n",
    "\n",
    "for line in test_set_de:\n",
    "    print(replace_number(line))"
   ]
  },
  {
   "cell_type": "markdown",
   "id": "381c7577-0002-45c3-a72a-8a19f837d4af",
   "metadata": {},
   "source": [
    "## French\n",
    "\n",
    "- country code +33\n",
    "- areacode 01-09, 00 rare but possible\n",
    "- written in pairs of two rather than pairs of 3-x\n",
    "\n",
    "\n",
    "Possible context words\n",
    "- appeler\n",
    "- numéro, numero\n",
    "- appelez\n",
    "- téléphone\n",
    "- tél, tel"
   ]
  },
  {
   "cell_type": "code",
   "execution_count": 8,
   "id": "75c669d8-0250-44d0-8032-c2e1225f9cbc",
   "metadata": {},
   "outputs": [
    {
     "name": "stdout",
     "output_type": "stream",
     "text": [
      "<PHONE_NUMBER>\n",
      "<PHONE_NUMBER>\n"
     ]
    }
   ],
   "source": [
    "rule_fr = r'(\\+33[ ]\\d([ ]\\d{2}){4})|(0\\d(([ ]\\d{2}){4}))'\n",
    "\n",
    "test_set_fr = [\"03 43 34 12 74\",\n",
    "              \"+33 9 23 53 28 54\"]\n",
    "\n",
    "for line in test_set_fr:\n",
    "    print(replace_number(line, rule=rule_fr))"
   ]
  },
  {
   "cell_type": "markdown",
   "id": "c4ba36fb-9ead-47c8-ab37-820b2a6f4456",
   "metadata": {},
   "source": [
    "## Italian\n",
    "\n",
    "- country code +39\n",
    "- areacode 1-3 digits with 0 as the first number (NOT OMITTED WITH +39)\n",
    "- subs. number 5-8 digits\n",
    "- sometimes 00 infrom of the number? <= calling inside the country?\n",
    "\n",
    "Possible contex words\n",
    "- numero\n",
    "- chiamare, chiamata, chiama\n",
    "- telefono\n",
    "- tel, Tel"
   ]
  },
  {
   "cell_type": "code",
   "execution_count": 20,
   "id": "cd9864a2-ec81-45d3-8840-fb018bc89d9f",
   "metadata": {},
   "outputs": [
    {
     "name": "stdout",
     "output_type": "stream",
     "text": [
      "tel. <PHONE_NUMBER>\n",
      "<PHONE_NUMBER>\n",
      "<PHONE_NUMBER>\n",
      "telefono <PHONE_NUMBER>\n",
      "=><PHONE_NUMBER>\n",
      "<PHONE_NUMBER>.\n",
      "<PHONE_NUMBER>\n",
      "<PHONE_NUMBER>\n"
     ]
    }
   ],
   "source": [
    "# These are from cites that have italian official phone numbers, like \"City hall of Firenze\"\n",
    "test_set_it = [\"tel. +39 06 678 4343\",     # Some Roman hotel\n",
    "                \"+39 066 1969084\",    # Roman limousine rental\n",
    "                \"+39 055 294883\",     # Firenze musei\n",
    "                \"telefono (+39) 055-27681\",     # City hall of Firenze\n",
    "                \"=>0039 041 5298711\",    # Venice tourist office\n",
    "                \"+39-041-719078.\",    # Venice boat rental office\n",
    "                \"041-719078\",\n",
    "                \"041 5298711\",\n",
    "              ]\n",
    "\n",
    "rule_it = r'(((\\+39|0039|\\(\\+39\\))[ ])?0\\d{1,2}[ -](\\d{5,8}|\\d{3}[ -]\\d{2,5}))|((\\+39-)?0(\\d{1,2}-\\d{5,8}|\\d{1,2}-\\d{3}-\\d{2,5}))'\n",
    "\n",
    "for line in test_set_it:\n",
    "    print(replace_number(line, rule=rule_it))"
   ]
  },
  {
   "cell_type": "markdown",
   "id": "8b4a4dcf-3107-4b59-8e71-d3f633b4caf0",
   "metadata": {},
   "source": [
    "## Spanish\n",
    "\n",
    "- +34\n",
    "- 9 numbers with exceptions\n",
    "- area code 2-3 digits\n",
    "- 9 for landlines and 6 for mobile, but there are other special prefixes as well\n",
    "- According to wikipedia, area(3)-3-3 format is used but websites list area(3)-2-2-2 and area(2)-3-4 as well\n",
    "\n",
    "Possible context words\n",
    "- teléfono, telefono\n",
    "- telf, teléf., tel., tlf, tfno\n",
    "- numero\n",
    "- llama (soittaa)\n"
   ]
  },
  {
   "cell_type": "code",
   "execution_count": 19,
   "id": "6f439ca6-c14f-42f5-b907-318101670e15",
   "metadata": {},
   "outputs": [
    {
     "name": "stdout",
     "output_type": "stream",
     "text": [
      "<PHONE_NUMBER>\n",
      "<PHONE_NUMBER>\n",
      "<PHONE_NUMBER>\n",
      "<PHONE_NUMBER>\n",
      "Tel: <PHONE_NUMBER>\n",
      "<PHONE_NUMBER>\n",
      "<PHONE_NUMBER>\n"
     ]
    }
   ],
   "source": [
    "test_set_es = [\"910 342 342\",\n",
    "              \"+34 924 349 129\",\n",
    "              \"+34 915 29 82 10\",      # Madrid City Hall\n",
    "              \"+34 932 85 38 32\",      # Barcelona Cathedral Office\n",
    "              \"Tel: 932 853 834\",      # Barcelona Placa de Catalunya tourist office\n",
    "              \"+34 93 378 8175\", # Barcelona Airport Tourist office in terminal 1\n",
    "              \"0034 93 378 8175\"]    #apparently this is also possible\n",
    "\n",
    "rule_es = r'((\\+34[ ]|0034[ ])?\\d{2,3}[ ]\\d{3}[ ]\\d{3,4})|((\\+34[ ]|0034[ ])?\\d{2,3}([ ]\\d{2}){3})'\n",
    "\n",
    "for line in test_set_es:\n",
    "    print(replace_number(line, rule=rule_es))"
   ]
  },
  {
   "cell_type": "code",
   "execution_count": null,
   "id": "05a7865e-e9a6-4555-bba3-7a935335e337",
   "metadata": {},
   "outputs": [],
   "source": []
  }
 ],
 "metadata": {
  "kernelspec": {
   "display_name": "Python 3 (ipykernel)",
   "language": "python",
   "name": "python3"
  },
  "language_info": {
   "codemirror_mode": {
    "name": "ipython",
    "version": 3
   },
   "file_extension": ".py",
   "mimetype": "text/x-python",
   "name": "python",
   "nbconvert_exporter": "python",
   "pygments_lexer": "ipython3",
   "version": "3.10.12"
  }
 },
 "nbformat": 4,
 "nbformat_minor": 5
}
