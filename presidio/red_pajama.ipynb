{
 "cells": [
  {
   "cell_type": "code",
   "execution_count": 1,
   "id": "0735b6b7-a0fe-4b79-b3d6-efa189536168",
   "metadata": {},
   "outputs": [
    {
     "name": "stdout",
     "output_type": "stream",
     "text": [
      "12:01:10\n"
     ]
    }
   ],
   "source": [
    "!date +'%T'\n"
   ]
  },
  {
   "cell_type": "code",
   "execution_count": 2,
   "id": "012a1ea2-c205-48b5-867a-920946ce9511",
   "metadata": {},
   "outputs": [
    {
     "name": "stdout",
     "output_type": "stream",
     "text": [
      "\n",
      "gzip: stdout: Broken pipe\n"
     ]
    }
   ],
   "source": [
    "!zcat ../en_head.json.gz | head -n 1 | python anonymize_with_no_config.py > redacted.jsonl\n",
    "\n"
   ]
  },
  {
   "cell_type": "code",
   "execution_count": 3,
   "id": "8dd88159-dcec-44de-b1d0-4db7e021ad85",
   "metadata": {},
   "outputs": [
    {
     "name": "stdout",
     "output_type": "stream",
     "text": [
      "12:01:16\n"
     ]
    }
   ],
   "source": [
    "!date +'%T'"
   ]
  },
  {
   "cell_type": "code",
   "execution_count": 4,
   "id": "530ad41b-a6f9-4bdd-8b85-e44d4d2e6576",
   "metadata": {},
   "outputs": [
    {
     "name": "stdout",
     "output_type": "stream",
     "text": [
      "{\"redacted\": \"AMICUS ANTHOLOGIES, PART ONE (1965-1972)\\nFebruary 23, 2017 Alfred Eaker Leave a comment\\nWith Dr. Terror\\u2019s House of Horrors (1965, directed by Freddie Francis and written by Milton Subotsky) Amicus Productions (spearheaded by Subotsky and Max Rosenberg, who <IN_PAN> produced for Hammer and was a cousin to Doris Wishman) established itself as a vital <IN_PAN> to Hammer Studios. Rather than imitating Hammer\\u2019s modernization of Gothic classics, Amicus developed its own niche with omnibus films. They were <IN_PAN> enough to be in full-fledged <IN_PAN> for a decade, <US_DRIVER_LICENSE> a <IN_PAN> as the go-to studio for horror anthologies. This, their <US_DRIVER_LICENSE> portmanteau film, clearly <IN_PAN> by EC Comics, sets a pattern of to-be-expected <IN_PAN>. Still, Amicus installs <IN_PAN> as a horror studio to be reckoned with, sparing no expense in procuring Hammer\\u2019s top actors: Peter Cushing (who would star in all but one of the Amicus anthologies) and Christopher Lee. For its <IN_PAN> segment, Dr. Terror\\u2019s House of Horrors opens to the duo (among other <IN_PAN>) on a train. Dr. Schreck ((\\u201cShreck\\u201d is <NRP> for \\u201cterror,\\u201d and a nod to the famous star of F.W. Murnau\\u2018s Nosferatu.)) (Cushing, saddled with a terrible <NRP> accent and glued on brows) pulls out a deck of tarot cards. \\u201cPick a card, any card, and tape it three times,\\u201d Schreck tells his fellow <IN_PAN>. Each participant will hear of a fate that may await them. Among the <IN_PAN> is Christopher Lee who will, of course, factor into one of the five <IN_PAN>.\\nIn \\u201cWerewolf,\\u201d Neil McCallum is an architect <IN_PAN> an old dark house, which turns out to be cursed. The title monster is featured in this <IN_PAN> tale of ancestral revenge with a \\u201ctwist.\\u201d\\nWith Alan Freeman (better known as the U.K D.J. for \\u201cPick of the Pops\\u201d) served up as a snack for a venus fly trap, \\u201cThe Creeping Vine,\\u201d <IN_PAN> doesn\\u2019t take itself so seriously. It is <US_DRIVER_LICENSE> lightheaded hokum.\\n\\u201cVoodoo\\u201d is the worst of the lot; badly dated in its stereotypes, with Kenny Lynch belting out a stolen voodoo tune.\\n\\u201cDisembodied Hand,\\u201d has elitist art critic Franklin Marsh (Lee) driving artist Eric Landor (Michael Gough) to suicide. Landor\\u2019s severed hand returns to exact revenge on the mean critic. It\\u2019s in the spirit of The Beast with Five Fingers, among others, and <IN_PAN> of two-dimensional caricatures of both artists and critics. It holds no surprises, but with Lee and Gough engaged in a bit of <IN_PAN><IN_PAN>-work fun, it\\u2019s easily the best episode.\\n\\u201cVampire\\u201d feature a young Donald <IN_PAN> who discovers he is married to\\u2026 a vampire! It barely raises a pulse.\\nSeen today, Dr. Terror\\u2019s House of Horrors is more camp than horror, and its appeal is one of genre nostalgia. Still, the <IN_PAN> box office success of Dr. Terror green-lighted a second portmanteau film in 1967, entitled Torture Garden (directed by Freddie Francis and written by Robert Bloch). It contains no torture nor any garden. Burgess Meredith (in a <US_DRIVER_LICENSE> disguise, reminding us of the Penguin) is Old Nick himself, going by the pseudonym of Dr. Diablo and <US_DRIVER_LICENSE> as a carnival barker who promises a tortuous exhibit that can reveal the future. \\u201cYou\\u2019ll shake, you\\u2019ll shiver, but it\\u2019s all good fun,\\u201d Diablo hammily tells his patrons. Unfortunately, only one of the four tales lives up to that promise.\\n\\u201cEnoch,\\u201d is the opening narrative. Michael Bryant\\u2019s inheritance money (from an uncle who took his time dying) is going to be spoiled by a mean ol\\u2019 puddy tat with a lot of doubloons.\\n\\u201cOver Hollywood\\u201d has Beverly Adams discovering the fountain of youth in Hollywood with robotic <US_DRIVER_LICENSE>.\\n\\u201cMr. Steinway\\u201d might be seen as a poor precursor to Stephen King\\u2019s \\u201cChristine,\\u201d replacing a killer car with a killer piano. It\\u2019s as absurd as it sounds.\\nThe first three segments are sloppily written and executed with little <IN_PAN>; each progressively worse, but the final segment single-handedly salvages the anthology.\\n\\u201cThe Man Who Collected Poe\\u201d finds Jack Palance (playing against type) as an Edgar Allan Poe-obsessed geek who may have found his soulmate in fellow fanatic Peter Cushing. However, somebody\\u2019s got something\\u2014or someone\\u2014hidden in the basement and \\u2026 somebody\\u2019s got the fever, which leads to a fiery finale. Cushing and Palance clearly enjoyed playing opposite one another and their chemistry, along with clever writing, making one wish the previous segments had been as enjoyable.\\n1970\\u2019s The House That Dripped Blood (directed by Peter Duffell and written by Robert Bloch) is a <US_DRIVER_LICENSE> improvement over its <US_DRIVER_LICENSE>. Duffell lacks the visual <IN_PAN> of Freddie Francis, but he has superior stories to work with and a top notch cast. The <IN_PAN> theme is the titular house, which has a bit of baggage left over from all who have resided there.\\nIn \\u201cMethod For Murder,\\u201d Denholm Elliott is a horror author who writes a character that becomes a tad too three-dimensional, much to his wife\\u2019s peril.\\n\\u201cWaxworks\\u201d stars Cushing as an uptight retired stockbroker and lifelong bachelor who visits a wax museum, only to see a figure of a woman whom he once was in love with. Obsession and <IN_PAN> love naturally go hand-in-hand, or head-on-plate.\\nIn \\u201cSweets to the Sweet,\\u201d Nyree Dawn Porter is hired to tutor a young, <IN_PAN> child (Chloe Franks) who is unloved by her cold-hearted father, Christopher Lee. Without giving too much away, let\\u2019s just say the <IN_PAN> theme is one few <IN_PAN> would dare tackle today.\\n\\u201cThe Cloak\\u201d is the most famous of the four episodes, <IN_PAN> fondly for its absurd humor. It stars John Pertwee (best known for his portrayal of Dr. Who) as an actor who mantles the cloak of a purported actual vampire. Hammer favorite Ingrid Pitt bares her fangs and, of course, a bit more.\\nAll four episodes feature strong acting, which is a rarity in <US_DRIVER_LICENSE> horror and should be a model for genre <IN_PAN>. Elliot\\u2019s <IN_PAN> performance in \\u201cMethod For Murder\\u201d is admirable enough to forgive the predictable \\u201ctwist.\\u201d The stylish \\u201cWaxworks\\u201d features an equally stylish performance from Cushing, although narratively it is the thinnest episode. \\u201cSweets to the Sweet\\u201d is psychologically intense with three <IN_PAN> <US_DRIVER_LICENSE>, making it the strongest entry. Although John Pertwee is a bit on-<IN_PAN> in \\u201cThe Cloak,\\u201d his performance suits the tone; but, he\\u2019s no match for Pitt.\\nAsylum (1972, directed by Roy Ward Baker and written by Robert Bloch) is often cited as the best of the Amicus anthologies. It opens on Dr. Martin (Robert Powell, best known as the blue-eyed Anglo-Saxon savior plopped into the Middle East in Franco Zeferelli\\u2019s Jesus of Nazareth) showing up for his scheduled job interview with Dr. Starr for a position at the Dunsmoor Asylum. Martin is met by Dr. <IN_PAN> (Patrick Magee), however, and informed that Dr. Starr is now a patient after going insane and becoming violent. <IN_PAN> devises a test for Martin: he will interview four patients and if he can guess which one is Dr. Starr, then he will be hired. Naturally, this segues into four tales from Mr. Bloch.\\nIn \\u201cFrozen Fear,\\u201d Walter (Richard Todd) is having a sordid affair with Bonnie (Barbara Parkins). When his wife Ruth (Sylvia Syms) won\\u2019t give him a divorce, Walter grabs an axe and fills his basement freezer with prime ex-wife cold cuts. Little does Walter know that the wifey was a voodoo priestess, and when that freezer thaws, big things come <IN_PAN> in small packages\\u2014lots of them. This vignette is the most blatantly indebted to EC comics and, as such, it\\u2019s probably Amicus\\u2019 finest twenty minutes.\\n\\u201cThe Weird Tailor\\u201d opens with tailor Bruno (Barry Morse) on the verge of being evicted. As luck would have it, Mr. Smith (Peter Cushing) walks into Bruno\\u2019s shop and orders a unique suit. With the promise of a hefty <IN_PAN>, Bruno obsessively begins working according to Mr. Smith\\u2019s very specific <US_DRIVER_LICENSE>. Unknown to Bruno, the suit is meant to resurrect Mr. Smith\\u2019s recently deceased son. Things don\\u2019t go according to plan. <IN_PAN> adapted for Boris Karloff\\u2019s \\u201cThriller\\u201d, this one can\\u2019t match the TV effort. Given a shorter running time for Asylum, Bloch was forced to excise the prologue, and with it gone, the suspense and menace are <IN_PAN>. The original thriller was actually more perverse in <IN_PAN> Bruno\\u2019s wife\\u2019s sexual <IN_PAN> to a mannequin. <US_DRIVER_LICENSE>, Bruno\\u2019s character was less sympathetic, bringing a <IN_PAN>, and weird, abusive quality that is merely sketched here. Cushing is superb, bringing a sense of pathos to the character, but his part is little more than a cameo. Being more <IN_PAN>, the schlock quality of the ending is more <IN_PAN>. Yet, for all of its comparative flaws, this is a strong second episode.\\n\\u201cLucy Comes To Stay\\u201d is the weakest of the four episodes. Barbara (Charlotte Rampling) has been released from the asylum to the care of her brother, George (James Valliers) and nurse Higgins (Megs Jenkins). However, Barbara has an imaginary friend named Lucy (Britt Ekland) who doesn\\u2019t care for George or the nurse. Lucy is also handy with a knife. Disappointingly, it plays out exactly as expected, and isn\\u2019t helped by <IN_PAN> <US_DRIVER_LICENSE> (Rampling being the exception).\\n<US_DRIVER_LICENSE>, \\u201c<IN_PAN> of Horror\\u201d is an extension of the <IN_PAN>, with the arrival of a new doctor named Byron (Herbert Lom) who has the demonic hobby of placing spirits within miniature robots and imbuing them with life, which serves as a potential gateway to immortality. Dr. Martin returns to uncover Dr. Starr\\u2019s identity in a <US_DRIVER_LICENSE> <IN_PAN> ending. It\\u2019s something of a mini-masterpiece that clearly proved an inspiration to later, albeit inferior films.\\nPART TWO will begin with Tales From The Crypt (1972) and take us to the final Amicus anthology: From Beyond The Grave (1974).\\nAnthologyChristopher <IN_PAN> FrancisHorrorPeter <US_DRIVER_LICENSE> <IN_PAN> Ward Baker\\nPrevious Post271. THE HOURGLASS <IN_PAN> (1973)Next PostWEIRD HORIZON FOR THE WEEK OF <DATE_TIME>\"}\n"
     ]
    }
   ],
   "source": [
    "!cat redacted.jsonl | head -n 1"
   ]
  },
  {
   "cell_type": "code",
   "execution_count": null,
   "id": "12d1677c-da89-4b90-8f5e-7fbd98a9ac39",
   "metadata": {},
   "outputs": [],
   "source": []
  }
 ],
 "metadata": {
  "kernelspec": {
   "display_name": "Python 3 (ipykernel)",
   "language": "python",
   "name": "python3"
  },
  "language_info": {
   "codemirror_mode": {
    "name": "ipython",
    "version": 3
   },
   "file_extension": ".py",
   "mimetype": "text/x-python",
   "name": "python",
   "nbconvert_exporter": "python",
   "pygments_lexer": "ipython3",
   "version": "3.10.12"
  }
 },
 "nbformat": 4,
 "nbformat_minor": 5
}
