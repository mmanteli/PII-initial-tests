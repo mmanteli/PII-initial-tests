{
 "cells": [
  {
   "cell_type": "code",
   "execution_count": 29,
   "id": "be45f503-08a6-4558-92e2-4e9a6d9fc130",
   "metadata": {},
   "outputs": [
    {
     "name": "stdout",
     "output_type": "stream",
     "text": [
      "My email is <EMAIL>.\n",
      "My number is <NUMBER>.\n",
      "10:30:50.938693005\n",
      "10:30:51.048642786\n",
      "This is math and should not be removed: 58302-559=57743. 39*115/42=106.79.\n"
     ]
    }
   ],
   "source": [
    "import re\n",
    "\n",
    "def replace_email(line):\n",
    "    return re.sub(r'[\\w.+-]+@[\\w-]+\\.[\\w-]+', \"<EMAIL>\", line)\n",
    "\n",
    "def replace_number(line):\n",
    "    return re.sub(r'((?:\\+\\d{1,3})|)?(([ ]\\d{2,10}){2,5}|(?:\\+\\d{10,12})|([-]\\d{2,7}){2,3})|(?:\\(\\d{3}\\))[ ]\\d{2,3}[-]\\d{2,4}', \"<NUMBER>\", line)\n",
    "    #(?:\\+\\d{1,3}\\s*)?(\\d{1,}[-\\s]?){2,}\\d{3,}\n",
    "    \n",
    "line = \"My email is john.smith@utu.fi.\"\n",
    "print(replace_email(line))\n",
    "#!date +\"%T.%N\"\n",
    "line = \"My number is +358 44 3482018.\"\n",
    "#!date +\"%T.%N\"\n",
    "print(replace_number(line))\n",
    "line = \"This is math and should not be removed: 58302-559=57743. 39*115/42=106.79.\"\n",
    "!date +\"%T.%N\"\n",
    "new_line=replace_number(line)\n",
    "!date +\"%T.%N\"\n",
    "print(new_line)"
   ]
  },
  {
   "cell_type": "code",
   "execution_count": 27,
   "id": "8b28b149-9336-4ebd-b0a5-e43a0a7f1957",
   "metadata": {},
   "outputs": [
    {
     "data": {
      "text/plain": [
       "0.10999999999999999"
      ]
     },
     "execution_count": 27,
     "metadata": {},
     "output_type": "execute_result"
    }
   ],
   "source": [
    "0.379-0.269"
   ]
  },
  {
   "cell_type": "code",
   "execution_count": 30,
   "id": "da302f7b-3aa1-4f8e-b648-c1c7322c3241",
   "metadata": {},
   "outputs": [],
   "source": [
    "# test set?\n",
    "import json\n",
    "\n",
    "file_path = 'testset.jsonl'\n",
    "\n",
    "data = []\n",
    "with open(file_path, 'r') as file:\n",
    "    for line in file:\n",
    "        data.append(json.loads(line))"
   ]
  },
  {
   "cell_type": "code",
   "execution_count": 32,
   "id": "f4ab6817-1fa5-406f-a0d8-3546a9d9310a",
   "metadata": {},
   "outputs": [
    {
     "name": "stdout",
     "output_type": "stream",
     "text": [
      "10:39:33.099164626\n",
      "10:39:33.209690492\n"
     ]
    }
   ],
   "source": [
    "!date +\"%T.%N\"\n",
    "for d in data:\n",
    "    a=replace_number(replace_email(d[\"original\"]))\n",
    "!date +\"%T.%N\""
   ]
  },
  {
   "cell_type": "code",
   "execution_count": null,
   "id": "b60a9da3-0f97-441c-9bb2-39496e8e3a61",
   "metadata": {},
   "outputs": [],
   "source": []
  }
 ],
 "metadata": {
  "kernelspec": {
   "display_name": "Python 3 (ipykernel)",
   "language": "python",
   "name": "python3"
  },
  "language_info": {
   "codemirror_mode": {
    "name": "ipython",
    "version": 3
   },
   "file_extension": ".py",
   "mimetype": "text/x-python",
   "name": "python",
   "nbconvert_exporter": "python",
   "pygments_lexer": "ipython3",
   "version": "3.10.12"
  }
 },
 "nbformat": 4,
 "nbformat_minor": 5
}
