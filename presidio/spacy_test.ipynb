{
 "cells": [
  {
   "cell_type": "markdown",
   "id": "b154d6cc-4aa9-418e-8a1b-bd108a6ec8b9",
   "metadata": {},
   "source": [
    "# spaCy implementation, from [here](https://github.com/microsoft/presidio/blob/main/docs/analyzer/nlp_engines/spacy_stanza.md)"
   ]
  },
  {
   "cell_type": "markdown",
   "id": "0c542f91-ef94-4cff-8293-5b80be71b905",
   "metadata": {},
   "source": [
    "Using only the spaCy models (which have a [ner component](https://spacy.io/models)). Model configs in sc-[language]-config.YAML."
   ]
  },
  {
   "cell_type": "code",
   "execution_count": 1,
   "id": "396a7f2b-663f-4567-b725-dd84eeec9457",
   "metadata": {},
   "outputs": [],
   "source": [
    "!pip -q install presidio-analyzer\n",
    "!pip -q install presidio-anonymizer"
   ]
  },
  {
   "cell_type": "code",
   "execution_count": 2,
   "id": "5e3a4103-854a-4291-9948-b55d112203b5",
   "metadata": {},
   "outputs": [
    {
     "name": "stdout",
     "output_type": "stream",
     "text": [
      "[type: PERSON, start: 11, end: 22, score: 0.85, type: PHONE_NUMBER, start: 46, end: 58, score: 0.75]\n",
      "text: My name is <PERSON> and my phone number is <PHONE_NUMBER>\n",
      "items:\n",
      "[\n",
      "    {'start': 43, 'end': 57, 'entity_type': 'PHONE_NUMBER', 'text': '<PHONE_NUMBER>', 'operator': 'replace'},\n",
      "    {'start': 11, 'end': 19, 'entity_type': 'PERSON', 'text': '<PERSON>', 'operator': 'replace'}\n",
      "]\n",
      "\n"
     ]
    }
   ],
   "source": [
    "from presidio_analyzer import AnalyzerEngine, RecognizerRegistry\n",
    "from presidio_analyzer.nlp_engine import NlpEngineProvider\n",
    "from presidio_anonymizer import AnonymizerEngine\n",
    "\n",
    "text = \"My name is Don Quixote and my phone number is 555-223-4495\"\n",
    "\n",
    "# Create configuration containing engine name and models\n",
    "conf_file = \"./spacy-config.yml\"\n",
    "\n",
    "# Create NLP engine based on configuration\n",
    "provider = NlpEngineProvider(conf_file=conf_file)\n",
    "nlp_engine = provider.create_engine()\n",
    "\n",
    "# Pass the created NLP engine and supported_languages to the AnalyzerEngine\n",
    "analyzer = AnalyzerEngine(\n",
    "    nlp_engine=nlp_engine, \n",
    "    supported_languages=[\"en\",\"fi\"]\n",
    ")\n",
    "\n",
    "results = analyzer.analyze(text=text, language=\"en\")\n",
    "print(results)\n",
    "anonymizer = AnonymizerEngine()\n",
    "anonymized_text = anonymizer.anonymize(text=text, analyzer_results=results)\n",
    "print(anonymized_text)"
   ]
  },
  {
   "cell_type": "code",
   "execution_count": 3,
   "id": "66be1724-8719-4ea4-be24-964162212936",
   "metadata": {},
   "outputs": [
    {
     "name": "stdout",
     "output_type": "stream",
     "text": [
      "[type: PERSON, start: 16, end: 30, score: 0.85, type: PHONE_NUMBER, start: 53, end: 64, score: 0.4]\n",
      "text: Minun nimeni on <PERSON> ja puhelinnumeroni on <PHONE_NUMBER>\n",
      "items:\n",
      "[\n",
      "    {'start': 47, 'end': 61, 'entity_type': 'PHONE_NUMBER', 'text': '<PHONE_NUMBER>', 'operator': 'replace'},\n",
      "    {'start': 16, 'end': 24, 'entity_type': 'PERSON', 'text': '<PERSON>', 'operator': 'replace'}\n",
      "]\n",
      "\n"
     ]
    }
   ],
   "source": [
    "text = \"Minun nimeni on Aku Hirviniemi ja puhelinnumeroni on 044 2235595\"\n",
    "results = analyzer.analyze(text=text, language=\"fi\")\n",
    "print(results)\n",
    "anonymizer = AnonymizerEngine()\n",
    "anonymized_text = anonymizer.anonymize(text=text, analyzer_results=results)\n",
    "print(anonymized_text)"
   ]
  },
  {
   "cell_type": "code",
   "execution_count": 4,
   "id": "f043ffc2-090f-4116-b1f1-cfc0ef7262ce",
   "metadata": {},
   "outputs": [],
   "source": [
    "# test set?\n",
    "import json\n",
    "\n",
    "file_path = 'testset.jsonl'\n",
    "\n",
    "data = []\n",
    "with open(file_path, 'r') as file:\n",
    "    for line in file:\n",
    "        data.append(json.loads(line))"
   ]
  },
  {
   "cell_type": "code",
   "execution_count": 5,
   "id": "bf40750c-6aa6-470a-9d0d-29d2bd3e92a5",
   "metadata": {},
   "outputs": [
    {
     "name": "stdout",
     "output_type": "stream",
     "text": [
      "<PERSON> called <PHONE_NUMBER> from her office at the company in <LOCATION>.\n",
      "<PERSON> called <PHONE_NUMBER> from her office at the company in <LOCATION>.\n",
      "---------\n",
      "<PERSON> prefers using Apple for his work, contacting clients with his email <EMAIL_ADDRESS>.\n",
      "<PERSON> prefers using <PRODUCT> for his work, contacting clients with his email <EMAIL>.\n",
      "---------\n",
      "<PERSON> visited <LOCATION> and enjoyed a delightful meal at Le Jules Verne restaurant.\n",
      "<PERSON> visited <LOCATION> and enjoyed a delightful meal at <LOCATION>.\n",
      "---------\n",
      "At the conference, Dr. <PERSON> discussed advancements in medicine at the Mayo Clinic.\n",
      "At the conference, Dr. <PERSON> discussed advancements in medicine at <ORG>.\n",
      "---------\n",
      "Samantha's phone number <UK_NHS> was written on a note left at the Starbucks cafe.\n",
      "<PERSON>'s phone number <PHONE_NUMBER> was written on a note left at the <ORG> cafe.\n",
      "---------\n",
      "Mr. <PERSON>, CEO of ABC Corporation, announced record profits in their latest <DATE_TIME> report.\n",
      "Mr. <PERSON>, CEO of <ORG>, announced record profits in their latest quarterly report.\n",
      "---------\n",
      "<PERSON> received a call at her <LOCATION> apartment from her friend <PERSON>.\n",
      "<PERSON> received a call at her <LOCATION> apartment from her friend <PERSON>.\n",
      "---------\n",
      "The team at Google reached out to recruit <PERSON>.\n",
      "The team at <ORG> reached out to recruit <PERSON>.\n",
      "---------\n",
      "<PERSON> always orders his favorite pizza from Domino's\n",
      "<PERSON> always orders his favorite pizza from <ORG>\n",
      "---------\n",
      "A renowned architect designed the new building for Microsoft in <LOCATION>.\n",
      "A renowned architect designed the new building for <ORG> in <LOCATION>.\n",
      "---------\n",
      "<PERSON> soitti Turun Sanomien toimiston numeroon.\n",
      "<PERSON> soitti <ORG> toimiston numeroon.\n",
      "---------\n",
      "<PERSON> tykkää käyttää Applen tuotteita töiden tekemiseen.\n",
      "<PERSON> tykkää käyttää <ORG> tuotteita töiden tekemiseen.\n",
      "---------\n",
      "<PERSON> kävi <LOCATION> <DATE_TIME>.\n",
      "<PERSON> kävi <LOC> viime keväänä.\n",
      "---------\n",
      "Konferenssissa tri <PERSON> kertoi Terveystalon uusista tutkimustuloksista.\n",
      "Konferenssissa tri <PERSON> kertoi <ORG> uusista tutkimustuloksista.\n",
      "---------\n",
      "<PERSON> sai oudon puhelun numerosta <DATE_TIME>.\n",
      "<PERSON> sai oudon puhelun numerosta <PHONE_NUMBER>.\n",
      "---------\n",
      "Hän on yrityksemme toimitusjohtaja ja hänet tavoittaa osoitteesta <EMAIL_ADDRESS>.\n",
      "Hän on yrityksemme toimitusjohtaja ja hänet tavoittaa osoitteesta <EMAIL>.\n",
      "---------\n",
      "Kuuluista arkkitehti on suunnitellut Turun ylioppilaskunnan toimistotalon.\n",
      "Kuuluisa arkkitehti on suunnitellut <ORG> toimistotalon.\n",
      "---------\n",
      "Tyttö kirjoitti osoitteensa Lemminkäisenkatu 6 lautasliinan reunaan.\n",
      "Tyttö kirjoitti osoitteensa <LOC> lautasliinan reunaan.\n",
      "---------\n",
      "Salasananne <PERSON> on voimassa <DATE_TIME> ajan.\n",
      "Salasananne <ID> on voimassa <DATE_TIME> ajan.\n",
      "---------\n",
      "\n",
      "\n",
      "---------\n"
     ]
    }
   ],
   "source": [
    "for d in data:\n",
    "    results = analyzer.analyze(text=d[\"original\"], language=d[\"language\"])\n",
    "    anonymized_text = anonymizer.anonymize(text=d[\"original\"], analyzer_results=results)\n",
    "    print(anonymized_text.text)\n",
    "    print(d[\"redacted\"])\n",
    "    print(\"---------\")"
   ]
  },
  {
   "cell_type": "code",
   "execution_count": null,
   "id": "604af0d5-4f1a-4344-9c0c-58c24ad98b0f",
   "metadata": {},
   "outputs": [],
   "source": []
  }
 ],
 "metadata": {
  "kernelspec": {
   "display_name": "Python 3 (ipykernel)",
   "language": "python",
   "name": "python3"
  },
  "language_info": {
   "codemirror_mode": {
    "name": "ipython",
    "version": 3
   },
   "file_extension": ".py",
   "mimetype": "text/x-python",
   "name": "python",
   "nbconvert_exporter": "python",
   "pygments_lexer": "ipython3",
   "version": "3.10.12"
  }
 },
 "nbformat": 4,
 "nbformat_minor": 5
}
