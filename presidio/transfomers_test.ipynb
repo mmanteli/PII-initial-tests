{
 "cells": [
  {
   "cell_type": "markdown",
   "id": "f6ae2abc-e450-43a7-b991-6d3d66b67ff3",
   "metadata": {},
   "source": [
    "# Code from [here](https://github.com/microsoft/presidio/blob/main/docs/analyzer/nlp_engines/transformers.md)\n",
    "\n",
    "This is the transformer implementation.\n",
    "First, trying out with the given config (English). Then, using that on a Finnish text. Finally, trying to change to a Finnish model.\n",
    "Model configs in tr-[language]-config.yml.\n",
    "\n",
    "***\n",
    "## English model"
   ]
  },
  {
   "cell_type": "code",
   "execution_count": 1,
   "id": "801b982c-9bee-4cf6-82b7-9bf5f7285e9b",
   "metadata": {},
   "outputs": [],
   "source": [
    "!pip -q install \"presidio-analyzer[transformers]\"\n",
    "!pip -q install presidio-anonymizer"
   ]
  },
  {
   "cell_type": "code",
   "execution_count": 1,
   "id": "260715aa-aafd-44d0-a5fe-f4790860f798",
   "metadata": {},
   "outputs": [
    {
     "name": "stderr",
     "output_type": "stream",
     "text": [
      "Some weights of the model checkpoint at dslim/bert-base-ner were not used when initializing BertForTokenClassification: ['bert.pooler.dense.bias', 'bert.pooler.dense.weight']\n",
      "- This IS expected if you are initializing BertForTokenClassification from the checkpoint of a model trained on another task or with another architecture (e.g. initializing a BertForSequenceClassification model from a BertForPreTraining model).\n",
      "- This IS NOT expected if you are initializing BertForTokenClassification from the checkpoint of a model that you expect to be exactly identical (initializing a BertForSequenceClassification model from a BertForSequenceClassification model).\n"
     ]
    },
    {
     "name": "stdout",
     "output_type": "stream",
     "text": [
      "[type: PHONE_NUMBER, start: 38, end: 50, score: 0.75]\n"
     ]
    }
   ],
   "source": [
    "from presidio_analyzer import AnalyzerEngine, RecognizerRegistry\n",
    "from presidio_analyzer.nlp_engine import NlpEngineProvider\n",
    "\n",
    "text = \"My name is Don and my phone number is 555-223-4495\"\n",
    "\n",
    "# Create configuration containing engine name and models\n",
    "conf_file = \"./testi-config.yml\"\n",
    "\n",
    "# Create NLP engine based on configuration\n",
    "provider = NlpEngineProvider(conf_file=conf_file)\n",
    "nlp_engine = provider.create_engine()\n",
    "\n",
    "# Pass the created NLP engine and supported_languages to the AnalyzerEngine\n",
    "analyzer = AnalyzerEngine(\n",
    "    nlp_engine=nlp_engine, \n",
    "    supported_languages=[\"en\",\"fi\"]\n",
    ")\n",
    "\n",
    "results = analyzer.analyze(text=text, language=\"en\")\n",
    "print(results)"
   ]
  },
  {
   "cell_type": "code",
   "execution_count": 2,
   "id": "28b58e3d-5fe5-468b-b09e-1aaef0c6a71e",
   "metadata": {},
   "outputs": [
    {
     "name": "stdout",
     "output_type": "stream",
     "text": [
      "text: My name is Don and my phone number is <PHONE_NUMBER>\n",
      "items:\n",
      "[\n",
      "    {'start': 38, 'end': 52, 'entity_type': 'PHONE_NUMBER', 'text': '<PHONE_NUMBER>', 'operator': 'replace'}\n",
      "]\n",
      "\n"
     ]
    }
   ],
   "source": [
    "#above does analysis, now anonymize\n",
    "from presidio_anonymizer import AnonymizerEngine\n",
    "\n",
    "# Analyzer results are passed to the AnonymizerEngine for anonymization\n",
    "\n",
    "anonymizer = AnonymizerEngine()\n",
    "anonymized_text = anonymizer.anonymize(text=text, analyzer_results=results)\n",
    "\n",
    "print(anonymized_text)\n"
   ]
  },
  {
   "cell_type": "markdown",
   "id": "61be408c-78bd-47c4-b8c6-b1cc87e0fdbb",
   "metadata": {},
   "source": [
    "## Finnish text on English model"
   ]
  },
  {
   "cell_type": "code",
   "execution_count": null,
   "id": "42bf4801-2353-441a-8b25-44ffd51a6e97",
   "metadata": {},
   "outputs": [],
   "source": [
    "text = \"Minun nimeni on Aku ja puhelinnumeroni on 044 2235595\"\n",
    "\n",
    "results = analyzer.analyze(text=text, language=\"en\")\n",
    "print(results)\n",
    "anonymized_text = anonymizer.anonymize(text=text, analyzer_results=results)\n",
    "print(anonymized_text)"
   ]
  },
  {
   "cell_type": "markdown",
   "id": "a0050691-080c-49c5-aeac-5fa475a3d8ff",
   "metadata": {},
   "source": [
    "## Finnish on Finnish model"
   ]
  },
  {
   "cell_type": "code",
   "execution_count": null,
   "id": "f051ae20-2e67-4a34-80fc-3b906d2c068e",
   "metadata": {},
   "outputs": [],
   "source": [
    "text = \"Minun nimeni on Aku ja puhelinnumeroni on 051-223-5595\"\n",
    "\n",
    "results = analyzer.analyze(text=text, language=\"fi\")\n",
    "#print(results)\n",
    "\n",
    "anonymizer = AnonymizerEngine()\n",
    "anonymized_text = anonymizer.anonymize(text=text, analyzer_results=results)\n",
    "\n",
    "print(anonymized_text)"
   ]
  },
  {
   "cell_type": "markdown",
   "id": "58353cfc-598e-4599-8b95-fbf1dcde9ea2",
   "metadata": {},
   "source": [
    "## Test set?"
   ]
  },
  {
   "cell_type": "code",
   "execution_count": null,
   "id": "750a729f-ac57-462b-8035-0231d85408ae",
   "metadata": {},
   "outputs": [],
   "source": [
    "# test set?\n",
    "import json\n",
    "\n",
    "file_path = 'testset.jsonl'\n",
    "\n",
    "data = []\n",
    "with open(file_path, 'r') as file:\n",
    "    for line in file:\n",
    "        data.append(json.loads(line))"
   ]
  },
  {
   "cell_type": "code",
   "execution_count": null,
   "id": "30540104-a422-461f-b7ff-6cb076dd1d07",
   "metadata": {},
   "outputs": [],
   "source": [
    "for d in data:\n",
    "    results = analyzer.analyze(text=d[\"original\"], language=d[\"language\"])\n",
    "    anonymized_text = anonymizer.anonymize(text=d[\"original\"], analyzer_results=results)\n",
    "    print(anonymized_text.text)\n",
    "    print(d[\"redacted\"])\n",
    "    print(\"---------\")"
   ]
  },
  {
   "cell_type": "code",
   "execution_count": null,
   "id": "4d051776-8d41-40ba-b101-d563c6882b61",
   "metadata": {},
   "outputs": [],
   "source": []
  }
 ],
 "metadata": {
  "kernelspec": {
   "display_name": "Python 3 (ipykernel)",
   "language": "python",
   "name": "python3"
  },
  "language_info": {
   "codemirror_mode": {
    "name": "ipython",
    "version": 3
   },
   "file_extension": ".py",
   "mimetype": "text/x-python",
   "name": "python",
   "nbconvert_exporter": "python",
   "pygments_lexer": "ipython3",
   "version": "3.10.6"
  }
 },
 "nbformat": 4,
 "nbformat_minor": 5
}
